{
 "cells": [
  {
   "cell_type": "code",
   "execution_count": 1,
   "id": "b0cdf6bb",
   "metadata": {},
   "outputs": [],
   "source": [
    "import json\n",
    "import pandas as pd"
   ]
  },
  {
   "cell_type": "code",
   "execution_count": null,
   "id": "b3e5a630",
   "metadata": {},
   "outputs": [],
   "source": [
    "input_file = \"../../ricerca_campioni_shap/codegpt/selected_samples_full_ft.jsonl\"   # percorso del file con predizioni\n",
    "output_file = \"../../ricerca_campioni_shap/codegpt/semgrep_full_ft/generated_code.json\" # percorso del file di output"
   ]
  },
  {
   "cell_type": "code",
   "execution_count": null,
   "id": "85075865",
   "metadata": {},
   "outputs": [],
   "source": [
    "generated_code_list = []\n",
    "\n",
    "# Legge il file JSONL ed estrae i campi \"generated_code\"\n",
    "\n",
    "with open(input_file, 'r', encoding='utf-8') as f:\n",
    "    for line in f:\n",
    "        item = json.loads(line)\n",
    "        code = item.get('generated_code')\n",
    "        if code is not None:\n",
    "            generated_code_list.append({'generated_code': code})\n",
    "\n"
   ]
  },
  {
   "cell_type": "code",
   "execution_count": null,
   "id": "65b32830",
   "metadata": {},
   "outputs": [
    {
     "name": "stdout",
     "output_type": "stream",
     "text": [
      "Salvati 600 elementi nel file ../../ricerca_campioni_shap/codegpt/semgrep_full_ft/generated_code.json\n"
     ]
    }
   ],
   "source": [
    "# Salva i risultati in un file JSON\n",
    "\n",
    "with open(output_file, 'w', encoding='utf-8') as f_out:\n",
    "    json.dump(generated_code_list, f_out, ensure_ascii=False, indent=2)\n",
    "\n",
    "print(f\"Salvati {len(generated_code_list)} elementi nel file {output_file}\")"
   ]
  }
 ],
 "metadata": {
  "kernelspec": {
   "display_name": "tesienv",
   "language": "python",
   "name": "python3"
  },
  "language_info": {
   "codemirror_mode": {
    "name": "ipython",
    "version": 3
   },
   "file_extension": ".py",
   "mimetype": "text/x-python",
   "name": "python",
   "nbconvert_exporter": "python",
   "pygments_lexer": "ipython3",
   "version": "3.9.21"
  }
 },
 "nbformat": 4,
 "nbformat_minor": 5
}
